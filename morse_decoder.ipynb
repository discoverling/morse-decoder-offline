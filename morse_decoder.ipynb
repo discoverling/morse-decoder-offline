{
 "cells": [
  {
   "attachments": {
    "59d3a3d8-835f-4b03-b44c-e9d711ecfa5b.png": {
     "image/png": "[encoded data removed]"
    }
   },
   "cell_type": "markdown",
   "id": "09d02006-6cb3-4eb3-99a9-13ebb93e12ea",
   "metadata": {},
   "source": [
    "# Discoverling Morse Code Decoder\n",
    "\n",
    "![Morse_code.png](attachment:59d3a3d8-835f-4b03-b44c-e9d711ecfa5b.png)\n"
   ]
  },
  {
   "cell_type": "code",
   "execution_count": 1,
   "id": "00b344fb-d4eb-496a-b77a-a0b34a06ed81",
   "metadata": {},
   "outputs": [
    {
     "name": "stdout",
     "output_type": "stream",
     "text": [
      "Loading training data...\n",
      "Loading classifier...\n"
     ]
    }
   ],
   "source": [
    "import classifier\n",
    "import morse_client\n",
    "\n",
    "# Morse client settings\n",
    "broker = 'mqtt.eclipseprojects.io'\n",
    "port = 1883\n",
    "topic = \"discoverling/mqtt\"\n",
    "\n",
    "# Load training data from the specified subfolder\n",
    "classifier, classmap = classifier.load_classifier('training_data')\n",
    "\n",
    "# Connect our MQTT client to the broker\n",
    "client = morse_client.connect_mqtt(broker, port)\n",
    "\n",
    "# Subscribe to the MQTT topic\n",
    "morse_client.subscribe(client, topic)\n",
    "\n",
    "# Start client loop, i.e. listening for incoming MQTT messages\n",
    "morse_client.loop_start(client)"
   ]
  },
  {
   "cell_type": "code",
   "execution_count": null,
   "id": "702687b3-2e94-480e-8717-38259fcfef7f",
   "metadata": {},
   "outputs": [
    {
     "name": "stdout",
     "output_type": "stream",
     "text": [
      "Connected to MQTT Broker!\n",
      "n \n",
      "\n",
      "a \n",
      "\n",
      "b \n",
      "\n"
     ]
    }
   ],
   "source": [
    "# Start decoding incoming morse code\n",
    "morse_client.decode_morse(classifier, classmap)"
   ]
  },
  {
   "cell_type": "code",
   "execution_count": null,
   "id": "3f386599-81b1-4e19-b576-9cab7ea2427a",
   "metadata": {},
   "outputs": [],
   "source": [
    "# Train a machine-learning model to classify Morse code input\n",
    "#\n",
    "# Requirements\n",
    "# - SciKit-Learn to create the model (tested with v1.2.0)\n",
    "# - MicroMLGen to export it in Arduino-usable C code (tested with v1.1.28)\n",
    "#\n",
    "# These dependencies can be installed from command-line as follows:\n",
    "# pip install -U scikit-learn\n",
    "# pip install micromlgen\n",
    "\n",
    "# For loading training dataset from .csv files\n",
    "import numpy as np\n",
    "from glob import glob\n",
    "from os.path import basename\n",
    "# Import chosen classifier function\n",
    "# (for alternatives see https://github.com/eloquentarduino/micromlgen)\n",
    "from sklearn.ensemble import RandomForestClassifier\n",
    "\n",
    "# Load training dataset from csv files \n",
    "def load_features(folder):\n",
    "    dataset = None\n",
    "    classmap = {}\n",
    "    for class_idx, filename in enumerate(glob('%s/*.csv' % folder)):\n",
    "        class_name = basename(filename)[:-4]\n",
    "        classmap[class_idx] = class_name\n",
    "        samples = np.loadtxt(filename, dtype=float, delimiter=',')\n",
    "        labels = np.ones((len(samples), 1)) * class_idx\n",
    "        samples = np.hstack((samples, labels))\n",
    "        dataset = samples if dataset is None else np.vstack((dataset, samples))\n",
    "    return dataset, classmap\n",
    "\n",
    "\n",
    "# Load training data from the specified subfolder\n",
    "features, classmap = load_features('training_data')\n",
    "\n",
    "print(classmap)\n",
    "# Create classifier function from feature set\n",
    "X, y = features[:, :-1], features[:, -1]\n",
    "classifier = RandomForestClassifier(20, max_depth=10).fit(X, y)"
   ]
  },
  {
   "cell_type": "code",
   "execution_count": null,
   "id": "1f94afcd-fb63-43ee-8702-63a7b04687a8",
   "metadata": {},
   "outputs": [],
   "source": [
    "import random\n",
    "import time\n",
    "from paho.mqtt import client as mqtt_client\n",
    "\n",
    "broker = 'mqtt.eclipseprojects.io'\n",
    "port = 1883\n",
    "topic = \"discoverling/test\"\n",
    "client_id = f'publish-{random.randint(0, 1000)}'\n",
    "\n",
    "\n",
    "def connect_mqtt():\n",
    "    def on_connect(client, userdata, flags, rc):\n",
    "        if rc == 0:\n",
    "            print(\"Connected to MQTT Broker!\")\n",
    "        else:\n",
    "            print(\"Failed to connect, return code %d\\n\", rc)\n",
    "\n",
    "    client = mqtt_client.Client(client_id)\n",
    "    # client.username_pw_set(username, password)\n",
    "    client.on_connect = on_connect\n",
    "    client.connect(broker, port)\n",
    "    return client\n",
    "\n",
    "def publish(client):\n",
    "    msg_count = 1\n",
    "    while True:\n",
    "        time.sleep(1)\n",
    "        msg = f\"messages: {msg_count}\"\n",
    "        result = client.publish(topic, msg)\n",
    "        # result: [0, 1]\n",
    "        status = result[0]\n",
    "        if status == 0:\n",
    "            print(f\"Send `{msg}` to topic `{topic}`\")\n",
    "        else:\n",
    "            print(f\"Failed to send message to topic {topic}\")\n",
    "        msg_count += 1\n",
    "        if msg_count > 5:\n",
    "            break\n",
    "\n",
    "def disconnect(client):\n",
    "    client.loop_stop()\n",
    "    client.disconnect()\n",
    "    time.sleep(0.1)\n",
    "\n",
    "def subscribe(client: mqtt_client):\n",
    "        \n",
    "    client.subscribe(topic)\n",
    "    client.on_message = on_message\n",
    "\n"
   ]
  },
  {
   "cell_type": "code",
   "execution_count": null,
   "id": "73701478-04c0-43fd-96fe-dd0ab5931d9c",
   "metadata": {},
   "outputs": [],
   "source": [
    "intraCharacterPause = 0.5\n",
    "timeout_period = 1.5\n",
    "char_count = 0\n",
    "button_time = 0\n",
    "new_char_received = False\n",
    "\n",
    "\n",
    "def on_message(client, userdata, msg):\n",
    "    global char_count\n",
    "    global button_time\n",
    "    global new_char_received\n",
    "    new_char_received = True\n",
    "    button_time = int(msg.payload.decode())\n",
    "    char_count += 1\n",
    "    print(f\"Received `{button_time}` from `{msg.topic}` topic\")\n",
    "\n",
    "\n",
    "def decode_morse(): \n",
    "    global char_count\n",
    "    global button_time\n",
    "    global new_char_received\n",
    "    last_received_time = 0\n",
    "    char_array = [0, 0, 0, 0]\n",
    "    \n",
    "    while True:\n",
    "        current_time = time.time()   \n",
    "        \n",
    "        if new_char_received:\n",
    "            print(\"New char received. char_count = {}\".format(char_count))\n",
    "            if char_count > 0: \n",
    "                if char_count == 1:\n",
    "                    last_received_time = current_time\n",
    "                print(\"current_time - last_received_time - button_time = {}\".format(current_time - last_received_time))\n",
    "                if current_time - last_received_time - button_time < intraCharacterPause:\n",
    "                    char_array[char_count-1] = button_time \n",
    "                    last_received_time = current_time  # Update the timestamp\n",
    "                else:\n",
    "                    char_count = 4                \n",
    "            if char_count == 4:\n",
    "                print(\"Reached 4 characters. Predicting...\")\n",
    "                print(\"char_array = {}\".format(char_array))\n",
    "                class_prediction = classifier.predict([char_array])\n",
    "                print(\"Class prediction = {}\".format(class_prediction[0]))\n",
    "                print(\"Class = {}\".format(classmap[class_prediction[0]]))\n",
    "                char_count = 0\n",
    "                char_array = [0, 0, 0, 0]\n",
    "            new_char_received = False\n",
    "        else:\n",
    "            # Check for timeout event when no new characters were received in time\n",
    "            if current_time - last_received_time > timeout_period and char_count > 0: \n",
    "                char_count = 0 # Reached end of character\n",
    "                print(\"TIMEOUT EVENT. Predicting...\")\n",
    "                print(\"char_array = {}\".format(char_array))\n",
    "                class_prediction = classifier.predict([char_array])\n",
    "                print(\"Class prediction = {}\".format(class_prediction[0]))\n",
    "                print(\"Class = {}\".format(classmap[class_prediction[0]]))\n",
    "                \n",
    "            \n",
    "        time.sleep(0.2)\n"
   ]
  },
  {
   "cell_type": "code",
   "execution_count": null,
   "id": "06cdc4b3-74a2-449c-99a5-beb3d526f5e1",
   "metadata": {},
   "outputs": [],
   "source": [
    "client = connect_mqtt()\n",
    "subscribe(client)\n",
    "client.loop_start()"
   ]
  },
  {
   "cell_type": "code",
   "execution_count": null,
   "id": "826d8ac0-17dc-47e1-8fa3-d30d3772abf2",
   "metadata": {},
   "outputs": [],
   "source": [
    "decode_morse()"
   ]
  },
  {
   "cell_type": "code",
   "execution_count": null,
   "id": "364d90cf-b3e2-485b-9a02-f35ea7ba0e5e",
   "metadata": {},
   "outputs": [],
   "source": []
  },
  {
   "cell_type": "code",
   "execution_count": null,
   "id": "63e22a0d-37ae-4074-8e24-feb9ed8e6923",
   "metadata": {},
   "outputs": [],
   "source": [
    "disconnect(client)"
   ]
  },
  {
   "cell_type": "code",
   "execution_count": null,
   "id": "e0201b9e-6763-4cf2-8d4b-c8e28f65a11c",
   "metadata": {},
   "outputs": [],
   "source": [
    "a = [150.00,1000.00,0.00,0.00]\n",
    "b = [538.00,191.00,183.00,193.00]\n",
    "class_prediction = classifier.predict([a])\n",
    "print(\"Class prediction: {}\".format(classmap[class_prediction[0]]))\n",
    "\n",
    "\n"
   ]
  },
  {
   "cell_type": "code",
   "execution_count": null,
   "id": "df163b9e-1039-48b3-bf91-49d81c09fde1",
   "metadata": {},
   "outputs": [],
   "source": []
  },
  {
   "cell_type": "code",
   "execution_count": null,
   "id": "98086c5e-43f1-41ac-b0cb-bd3119bdb530",
   "metadata": {},
   "outputs": [],
   "source": []
  },
  {
   "cell_type": "code",
   "execution_count": null,
   "id": "4a49172f-e1a0-4a1f-9978-97f4f15a9aaf",
   "metadata": {},
   "outputs": [],
   "source": []
  },
  {
   "cell_type": "code",
   "execution_count": null,
   "id": "1d5b82f5-dd00-453b-a374-ea874fd8cd54",
   "metadata": {},
   "outputs": [],
   "source": []
  },
  {
   "cell_type": "code",
   "execution_count": null,
   "id": "45801a08-d09f-4c40-b959-a3e4224bb2d9",
   "metadata": {},
   "outputs": [],
   "source": [
    "\n",
    "\"\"\"\n",
    "def decode_morse():   \n",
    "    last_received_time = 0\n",
    "    \n",
    "    while True:\n",
    " \n",
    "        current_time = time.time()   \n",
    "        \n",
    "        if current_time - last_received_time < const_intraCharacterPause:\n",
    "            if char_count > 0:   \n",
    "                char_array[char_count-1] = button_time\n",
    "                char_count += 1  \n",
    "                last_received_time = current_time  # Update the timestamp\n",
    "            if char_count == 4:\n",
    "                class_prediction = classifier.predict([char_array])\n",
    "                print(\"Reached 4 characters. Predicting...\")\n",
    "                print(\"char_array = {}\".format(char_array))\n",
    "                print(\"Class prediction = {}\".format(class_prediction))\n",
    "                char_count = 0\n",
    "                char_array = [0, 0, 0, 0]\n",
    "        else:\n",
    "            if char_count == 0:\n",
    "                continue\n",
    "            else:\n",
    "                class_prediction = classifier.predict([char_array])\n",
    "                print(\"Failed to reach 4 characters. Predicting...\")\n",
    "                print(\"char_array = {}\".format(char_array))\n",
    "                print(\"Class prediction = {}\".format(class_prediction))\n",
    "                char_count = 0\n",
    "                char_array = [0, 0, 0, 0]\n",
    "                \n",
    "        time.sleep(0.2)\n",
    "        \"\"\""
   ]
  }
 ],
 "metadata": {
  "kernelspec": {
   "display_name": "Python 3 (ipykernel)",
   "language": "python",
   "name": "python3"
  },
  "language_info": {
   "codemirror_mode": {
    "name": "ipython",
    "version": 3
   },
   "file_extension": ".py",
   "mimetype": "text/x-python",
   "name": "python",
   "nbconvert_exporter": "python",
   "pygments_lexer": "ipython3",
   "version": "3.11.5"
  }
 },
 "nbformat": 4,
 "nbformat_minor": 5
}
